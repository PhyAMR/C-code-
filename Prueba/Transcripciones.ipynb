{
 "cells": [
  {
   "attachments": {},
   "cell_type": "markdown",
   "metadata": {},
   "source": [
    "Transcriptor de Audio a texto"
   ]
  },
  {
   "cell_type": "code",
   "execution_count": null,
   "metadata": {},
   "outputs": [],
   "source": [
    "import speech_recognition as sr\n",
    "\n",
    "r = sr.Recognizer()\n",
    "\n",
    "def transcribe_audio(filename):\n",
    "    with sr.AudioFile(filename) as source:\n",
    "        audio = r.record(source)\n",
    "\n",
    "    text = r.recognize_google(audio, language = \"es-ES\")\n",
    "\n",
    "    with open(\"C:/Users/alvar/OneDrive/Escritorio/Europea/transcription.txt\", \"a\") as f:\n",
    "        f.write(text + \"\\n\")\n",
    "\n",
    "# Transcribir audio en fragmentos\n",
    "def transcribe_large_audio(filename, chunk_size=1*60*60):  # 1 hora por fragmento\n",
    "    with sr.AudioFile(filename) as source:\n",
    "        audio = r.record(source)\n",
    "\n",
    "    chunks = sr.AudioSegment.silent(duration=0, frame_rate=source.frame_rate) + audio[::chunk_size]\n",
    "\n",
    "    for i, chunk in enumerate(chunks):\n",
    "        with sr.AudioFile(\"chunk{0}.wav\".format(i)) as source:\n",
    "            source.write(chunk.get_wav_data())\n",
    "        \n",
    "        transcribe_audio(\"chunk{0}.wav\".format(i))\n",
    "\n",
    "filename = \"C:/Users/alvar/OneDrive/Documentos/Audacity/prueba_2.wav\"\n",
    "transcribe_large_audio(filename)\n"
   ]
  },
  {
   "attachments": {},
   "cell_type": "markdown",
   "metadata": {},
   "source": [
    "Audios Cortos"
   ]
  },
  {
   "cell_type": "code",
   "execution_count": null,
   "metadata": {},
   "outputs": [],
   "source": [
    "import speech_recognition as sr\n",
    "\n",
    "r = sr.Recognizer()\n",
    "\n",
    "with sr.AudioFile(\"C:/Users/alvar/OneDrive/Documentos/Audacity/Prueba_2.wav\") as source:\n",
    "    audio = r.record(source)\n",
    "\n",
    "text = r.recognize_google(audio, language = \"es-ES\")\n",
    "\n",
    "with open(\"C:/Users/alvar/OneDrive/Escritorio/Europea/transcription.txt\", \"w\") as f:\n",
    "    f.write(text)\n"
   ]
  }
 ],
 "metadata": {
  "kernelspec": {
   "display_name": "Python 3",
   "language": "python",
   "name": "python3"
  },
  "language_info": {
   "codemirror_mode": {
    "name": "ipython",
    "version": 3
   },
   "file_extension": ".py",
   "mimetype": "text/x-python",
   "name": "python",
   "nbconvert_exporter": "python",
   "pygments_lexer": "ipython3",
   "version": "3.11.1"
  },
  "orig_nbformat": 4,
  "vscode": {
   "interpreter": {
    "hash": "54be35b7545492fe69406f664037291bc0fd788343b8528f21c297f6f893cba3"
   }
  }
 },
 "nbformat": 4,
 "nbformat_minor": 2
}
